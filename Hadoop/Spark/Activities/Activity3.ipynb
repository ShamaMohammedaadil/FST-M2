{
 "cells": [
  {
   "cell_type": "markdown",
   "metadata": {},
   "source": [
    "JSON Example\n",
    "\n",
    "This code block is to import:\n",
    "\n",
    "FindSpark\n",
    "SparkSession\n",
    "Spark SQL functions\n",
    "And then initialises the SparkSession"
   ]
  },
  {
   "cell_type": "code",
   "execution_count": 3,
   "metadata": {},
   "outputs": [],
   "source": [
    "import findspark\n",
    "from pyspark.sql import SparkSession\n",
    "from pyspark.sql.functions import *\n",
    "\n",
    "findspark.init()\n",
    "\n",
    "spark = SparkSession.builder.master(\"local\").appName(\"FSTExample\").getOrCreate()"
   ]
  },
  {
   "cell_type": "markdown",
   "metadata": {},
   "source": [
    "Read JSON file"
   ]
  },
  {
   "cell_type": "code",
   "execution_count": 4,
   "metadata": {},
   "outputs": [
    {
     "name": "stdout",
     "output_type": "stream",
     "text": [
      "root\n",
      " |-- City: string (nullable = true)\n",
      " |-- Country: string (nullable = true)\n",
      " |-- RecordNumber: long (nullable = true)\n",
      " |-- State: string (nullable = true)\n",
      " |-- Zipcode: long (nullable = true)\n",
      "\n",
      "+------------+-------+-------------------+-----+-------+\n",
      "|RecordNumber|Zipcode|               City|State|Country|\n",
      "+------------+-------+-------------------+-----+-------+\n",
      "|         704|      2|PASEO COSTA DEL SUR|   PR|     US|\n",
      "|         709|     10|       BDA SAN LUIS|   PR|     US|\n",
      "|       76166|  61391|  CINGULAR WIRELESS|   TX|     US|\n",
      "|       76177|  61392|         FORT WORTH|   TX|     US|\n",
      "|       76177|  61393|           FT WORTH|   TX|     US|\n",
      "|         704|      4|    URB EUGENE RICE|State|     US|\n",
      "|       85209|  39827|               MESA|   AZ|     US|\n",
      "|       85210|  39828|               MESA|   AZ|     US|\n",
      "|       32046|  49345|           HILLIARD|   FL|     US|\n",
      "|       34445|  49346|             HOLDER|   FL|     US|\n",
      "|       32564|  49347|               HOLT|   FL|     US|\n",
      "|       34487|  49348|          HOMOSASSA|   FL|     US|\n",
      "|         704|      3|      SECT LANAUSSE|State|     US|\n",
      "|       36275|  54354|      SPRING GARDEN|   AL|     US|\n",
      "|       35146|  54355|        SPRINGVILLE|   AL|     US|\n",
      "|       35585|  54356|        SPRUCE PINE|   AL|     US|\n",
      "|       27007|  76511|           ASH HILL|   NC|     US|\n",
      "|       27203|  76512|           ASHEBORO|   NC|     US|\n",
      "|       27204|  76513|           ASHEBORO|   NC|     US|\n",
      "+------------+-------+-------------------+-----+-------+\n",
      "\n"
     ]
    }
   ],
   "source": [
    "df = spark.read.option('multiline', 'true').json('./sample_data/zipcodes.json')\n",
    "df.printSchema()\n",
    "zc = df.select(df.RecordNumber, df.Zipcode, df.City, df.State, df.Country)\n",
    "zc.show()"
   ]
  },
  {
   "cell_type": "markdown",
   "metadata": {},
   "source": [
    "Simple filtering"
   ]
  },
  {
   "cell_type": "code",
   "execution_count": 5,
   "metadata": {},
   "outputs": [
    {
     "name": "stdout",
     "output_type": "stream",
     "text": [
      "+------------+-------+-------------------+-----+-------+\n",
      "|RecordNumber|Zipcode|               City|State|Country|\n",
      "+------------+-------+-------------------+-----+-------+\n",
      "|         704|      2|PASEO COSTA DEL SUR|   PR|     US|\n",
      "|         709|     10|       BDA SAN LUIS|   PR|     US|\n",
      "|       76166|  61391|  CINGULAR WIRELESS|   TX|     US|\n",
      "|       76177|  61392|         FORT WORTH|   TX|     US|\n",
      "|       76177|  61393|           FT WORTH|   TX|     US|\n",
      "+------------+-------+-------------------+-----+-------+\n",
      "\n",
      "+------------+-------+----+-----+-------+\n",
      "|RecordNumber|Zipcode|City|State|Country|\n",
      "+------------+-------+----+-----+-------+\n",
      "+------------+-------+----+-----+-------+\n",
      "\n"
     ]
    }
   ],
   "source": [
    "zc.filter((df.State == 'PR') | (df.State == 'TX')).show()\n",
    "zc.filter((df.State == 'PR') & (df.Zipcode == 709)).show()"
   ]
  },
  {
   "cell_type": "markdown",
   "metadata": {},
   "source": [
    "Sorting data"
   ]
  },
  {
   "cell_type": "code",
   "execution_count": 6,
   "metadata": {},
   "outputs": [
    {
     "name": "stdout",
     "output_type": "stream",
     "text": [
      "+------------+-------+-------------------+-----+-------+\n",
      "|RecordNumber|Zipcode|               City|State|Country|\n",
      "+------------+-------+-------------------+-----+-------+\n",
      "|         704|      2|PASEO COSTA DEL SUR|   PR|     US|\n",
      "|         704|      3|      SECT LANAUSSE|State|     US|\n",
      "|         704|      4|    URB EUGENE RICE|State|     US|\n",
      "|         709|     10|       BDA SAN LUIS|   PR|     US|\n",
      "|       85209|  39827|               MESA|   AZ|     US|\n",
      "|       85210|  39828|               MESA|   AZ|     US|\n",
      "|       32046|  49345|           HILLIARD|   FL|     US|\n",
      "|       34445|  49346|             HOLDER|   FL|     US|\n",
      "|       32564|  49347|               HOLT|   FL|     US|\n",
      "|       34487|  49348|          HOMOSASSA|   FL|     US|\n",
      "|       36275|  54354|      SPRING GARDEN|   AL|     US|\n",
      "|       35146|  54355|        SPRINGVILLE|   AL|     US|\n",
      "|       35585|  54356|        SPRUCE PINE|   AL|     US|\n",
      "|       76166|  61391|  CINGULAR WIRELESS|   TX|     US|\n",
      "|       76177|  61392|         FORT WORTH|   TX|     US|\n",
      "|       76177|  61393|           FT WORTH|   TX|     US|\n",
      "|       27007|  76511|           ASH HILL|   NC|     US|\n",
      "|       27203|  76512|           ASHEBORO|   NC|     US|\n",
      "|       27204|  76513|           ASHEBORO|   NC|     US|\n",
      "+------------+-------+-------------------+-----+-------+\n",
      "\n"
     ]
    }
   ],
   "source": [
    "zc.orderBy(df.Zipcode.asc()).show()"
   ]
  },
  {
   "cell_type": "markdown",
   "metadata": {},
   "source": [
    "Aggregate functions"
   ]
  },
  {
   "cell_type": "code",
   "execution_count": 7,
   "metadata": {},
   "outputs": [
    {
     "name": "stdout",
     "output_type": "stream",
     "text": [
      "+-----+-----+\n",
      "|State|count|\n",
      "+-----+-----+\n",
      "|   FL|    4|\n",
      "|   NC|    3|\n",
      "|   AL|    3|\n",
      "|   TX|    3|\n",
      "|   AZ|    2|\n",
      "|State|    2|\n",
      "|   PR|    2|\n",
      "+-----+-----+\n",
      "\n"
     ]
    }
   ],
   "source": [
    "zc.groupBy('State').count().orderBy('count', ascending=False).show()"
   ]
  }
 ],
 "metadata": {
  "kernelspec": {
   "display_name": "Python 3",
   "language": "python",
   "name": "python3"
  },
  "language_info": {
   "codemirror_mode": {
    "name": "ipython",
    "version": 3
   },
   "file_extension": ".py",
   "mimetype": "text/x-python",
   "name": "python",
   "nbconvert_exporter": "python",
   "pygments_lexer": "ipython3",
   "version": "3.12.4"
  }
 },
 "nbformat": 4,
 "nbformat_minor": 2
}
